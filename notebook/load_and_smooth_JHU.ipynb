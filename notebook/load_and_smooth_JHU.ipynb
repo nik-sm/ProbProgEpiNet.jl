{
 "cells": [
  {
   "cell_type": "code",
   "execution_count": null,
   "metadata": {
    "ExecuteTime": {
     "end_time": "2020-09-30T10:40:24.343000-04:00",
     "start_time": "2020-09-30T14:39:49.411Z"
    }
   },
   "outputs": [],
   "source": [
    "using Pandas ;\n",
    "using Plots ;\n",
    "using CSV ;\n",
    "using RollingFunctions;"
   ]
  },
  {
   "cell_type": "code",
   "execution_count": null,
   "metadata": {
    "ExecuteTime": {
     "end_time": "2020-09-30T10:40:40.428000-04:00",
     "start_time": "2020-09-30T14:39:55.950Z"
    }
   },
   "outputs": [],
   "source": [
    "real_data_dir = \"../COVID-19/csse_covid_19_data/csse_covid_19_time_series\"\n",
    "real_confirmed = joinpath(real_data_dir,\"time_series_covid19_confirmed_US.csv\")\n",
    "real_deaths = joinpath(real_data_dir,\"time_series_covid19_deaths_US.csv\")"
   ]
  },
  {
   "cell_type": "code",
   "execution_count": null,
   "metadata": {
    "ExecuteTime": {
     "end_time": "2020-09-30T10:40:43.467000-04:00",
     "start_time": "2020-09-30T14:39:57.935Z"
    }
   },
   "outputs": [],
   "source": [
    "df_suffolk_confirmed = read_csv(real_confirmed)\n",
    "suffolk_infected = iloc(query(df_suffolk_confirmed,:(Admin2 == \"Miami-Dade\" && Province_State == \"Florida\")))[:,12:size(df_suffolk_confirmed)[2]]"
   ]
  },
  {
   "cell_type": "code",
   "execution_count": null,
   "metadata": {
    "ExecuteTime": {
     "end_time": "2020-09-30T10:40:43.734000-04:00",
     "start_time": "2020-09-30T14:39:59.687Z"
    }
   },
   "outputs": [],
   "source": [
    "# NOTE - this table has \"Population\" at column 12\n",
    "df_suffolk_deaths = read_csv(real_deaths)\n",
    "suffolk_deaths = iloc(query(df_suffolk_deaths,:(Admin2 == \"Miami-Dade\" && Province_State == \"Florida\")))[:,13:size(df_suffolk_deaths)[2]]"
   ]
  },
  {
   "cell_type": "code",
   "execution_count": null,
   "metadata": {
    "ExecuteTime": {
     "end_time": "2020-09-30T10:41:20.339000-04:00",
     "start_time": "2020-09-30T14:41:19.174Z"
    }
   },
   "outputs": [],
   "source": [
    "function get_data(df)\n",
    "    cumulative_counts::Array{Int64, 1} = []\n",
    "    for x in sum(df)\n",
    "        push!(cumulative_counts, convert(Int, x))    \n",
    "    end\n",
    "\n",
    "    inf1 = cumulative_counts[2:end]\n",
    "    inf2 = cumulative_counts[1:end-1]\n",
    "    per_day_counts = inf1 - inf2\n",
    "    return cumulative_counts, per_day_counts\n",
    "end\n",
    "\n",
    "inf, delta_inf = get_data(suffolk_infected)\n",
    "deaths, delta_deaths = get_data(suffolk_deaths)"
   ]
  },
  {
   "cell_type": "code",
   "execution_count": null,
   "metadata": {},
   "outputs": [],
   "source": [
    "Plots.plot(delta_inf[70:end])"
   ]
  },
  {
   "cell_type": "code",
   "execution_count": null,
   "metadata": {
    "ExecuteTime": {
     "end_time": "2020-09-30T10:41:41.978000-04:00",
     "start_time": "2020-09-30T14:41:19.543Z"
    }
   },
   "outputs": [],
   "source": [
    "window = 7\n",
    "@assert window % 2 != 0\n",
    "cut = Int(floor(window/2)) # on each side\n",
    "smooth_delta_inf = rollmean(delta_inf, window)\n",
    "smooth_inf = rollmean(inf, window)\n",
    "Plots.plot(hcat(delta_inf[1+cut:end-cut], smooth_delta_inf), label=[\"before\" \"after\"], legend=:topleft)"
   ]
  },
  {
   "cell_type": "code",
   "execution_count": null,
   "metadata": {},
   "outputs": [],
   "source": [
    "pop = 2716940\n",
    "N = findfirst(map(x-> x >= 0.0025 * pop, inf)) - 7"
   ]
  },
  {
   "cell_type": "code",
   "execution_count": null,
   "metadata": {},
   "outputs": [],
   "source": [
    "Plots.plot(hcat(delta_inf[N+cut:N+cut+163], smooth_delta_inf[N:N+163]), label=[\"before\" \"after\"], legend=:topleft)"
   ]
  },
  {
   "cell_type": "code",
   "execution_count": null,
   "metadata": {},
   "outputs": [],
   "source": [
    "println(inf[70:end] ./ 10000000)"
   ]
  },
  {
   "cell_type": "code",
   "execution_count": null,
   "metadata": {
    "ExecuteTime": {
     "end_time": "2020-09-30T10:41:42.309000-04:00",
     "start_time": "2020-09-30T14:41:19.836Z"
    }
   },
   "outputs": [],
   "source": [
    "println(sum(smooth_delta_inf))\n",
    "println(inf[end])"
   ]
  },
  {
   "cell_type": "code",
   "execution_count": null,
   "metadata": {
    "ExecuteTime": {
     "end_time": "2020-09-30T10:41:43.633000-04:00",
     "start_time": "2020-09-30T14:41:19.998Z"
    }
   },
   "outputs": [],
   "source": [
    "Plots.plot(hcat(\n",
    "        convert(Array{Any}, cumsum(smooth_delta_inf)), # TODO - can we avoid this convert?\n",
    "        inf[1+cut+1:end-cut]), label=[\"smooth\" \"reg\"], legend=:topleft)"
   ]
  },
  {
   "cell_type": "code",
   "execution_count": null,
   "metadata": {
    "ExecuteTime": {
     "end_time": "2020-09-30T10:41:43.741000-04:00",
     "start_time": "2020-09-30T14:41:20.143Z"
    }
   },
   "outputs": [],
   "source": [
    "println(size(inf))\n",
    "println(size(deaths))"
   ]
  },
  {
   "cell_type": "code",
   "execution_count": null,
   "metadata": {
    "ExecuteTime": {
     "end_time": "2020-09-30T10:41:44.307000-04:00",
     "start_time": "2020-09-30T14:41:20.542Z"
    }
   },
   "outputs": [],
   "source": [
    "# Want to start our trajectories from 5% infected (relative to total eventual infected)\n",
    "N = findfirst(map(x-> x >= 0.05 * inf[end], inf))"
   ]
  },
  {
   "cell_type": "code",
   "execution_count": null,
   "metadata": {
    "ExecuteTime": {
     "end_time": "2020-09-30T10:41:45.815000-04:00",
     "start_time": "2020-09-30T14:41:20.693Z"
    }
   },
   "outputs": [],
   "source": [
    "# Consider only a 100 day trajectory\n",
    "\n",
    "all_1 = Plots.plot(hcat(inf, deaths), label=[\"inf\" \"deaths\"], legend=nothing)\n",
    "cumulative = Plots.plot(hcat(inf[N:N+100], deaths[N:N+100]), label=[\"inf\" \"deaths\"], legend=nothing)\n",
    "all_2 = Plots.plot(hcat(delta_inf, delta_deaths), label=[\"inf\" \"deaths\"], legend=nothing)\n",
    "deltas = Plots.plot(hcat(delta_inf[N:N+100], delta_deaths[N:N+100]), label=[\"inf\" \"deaths\"], legend=nothing)\n",
    "Plots.plot(all_1, cumulative, all_2, deltas)"
   ]
  },
  {
   "cell_type": "code",
   "execution_count": null,
   "metadata": {
    "ExecuteTime": {
     "end_time": "2020-09-30T10:42:20.248000-04:00",
     "start_time": "2020-09-30T14:42:19.888Z"
    }
   },
   "outputs": [],
   "source": [
    "deaths[end]/inf[end]"
   ]
  },
  {
   "cell_type": "code",
   "execution_count": null,
   "metadata": {},
   "outputs": [],
   "source": [
    "pop = 803901\n",
    "nodes = 3000\n",
    "mort_rate = 0.0486\n",
    "println(inf[end] / pop * nodes )\n",
    "println(inf[end] * 10 / pop * nodes)\n",
    "\n",
    "println(deaths[end] / mort_rate / pop * nodes)\n",
    "println(deaths[end] / mort_rate * 10 / pop * nodes)"
   ]
  }
 ],
 "metadata": {
  "kernelspec": {
   "display_name": "Julia 1.5.1",
   "language": "julia",
   "name": "julia-1.5"
  },
  "language_info": {
   "file_extension": ".jl",
   "mimetype": "application/julia",
   "name": "julia",
   "version": "1.5.1"
  }
 },
 "nbformat": 4,
 "nbformat_minor": 4
}
