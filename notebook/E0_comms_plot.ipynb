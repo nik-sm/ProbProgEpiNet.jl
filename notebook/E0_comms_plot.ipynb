{
 "cells": [
  {
   "cell_type": "code",
   "execution_count": 9,
   "metadata": {
    "ExecuteTime": {
     "end_time": "2021-02-25T00:32:37.578758Z",
     "start_time": "2021-02-25T00:32:37.575000Z"
    }
   },
   "outputs": [],
   "source": [
    "import matplotlib.pyplot as plt\n",
    "import numpy as np\n",
    "sigmoid = (lambda x : 1/(1 + np.exp(-x)))"
   ]
  },
  {
   "cell_type": "code",
   "execution_count": 45,
   "metadata": {
    "ExecuteTime": {
     "end_time": "2021-02-25T00:45:57.694516Z",
     "start_time": "2021-02-25T00:45:57.683817Z"
    }
   },
   "outputs": [],
   "source": [
    "# git_hash=cc7c3c6+,time=2021-01-13T21:40:34,noise=0.0,lr=5.0e-6,decay=10,s_per_iter=120,iters=30,E0_mean=-7.0,E0_std=0.0,fixed_E0=0.005,betaE_mean=-1.39,dis_param_std=0.0,seed=1,county=Nov-miamidade'\n",
    "#  prob -> 'git_hash=cc7c3c6+,time=2021-01-13T21:41:49,noise=0.0,lr=5.0e-6,decay=10,s_per_iter=120,iters=30,E0_mean=-7.0,E0_std=0.0,fixed_E0=0.005,betaE_mean=-1.39,dis_param_std=0.0,seed=3,county=Nov-miamidade'\n",
    "#'git_hash=cc7c3c6+,time=2021-01-13T21:42:26,noise=0.0,lr=5.0e-6,decay=10,s_per_iter=120,iters=30,E0_mean=-7.0,E0_std=0.0,fixed_E0=0.005,betaE_mean=-1.39,dis_param_std=0.0,seed=4,county=Nov-miamidade'\n",
    "#'git_hash=cc7c3c6+,time=2021-01-13T21:43:03,noise=0.0,lr=5.0e-6,decay=10,s_per_iter=120,iters=30,E0_mean=-7.0,E0_std=0.0,fixed_E0=0.005,betaE_mean=-1.39,dis_param_std=0.0,seed=5,county=Nov-miamidade\n",
    "loose_post_E0_logit_means = [-6.67373120248834,-7.358066579859849,-6.696450777117423,-6.871040688002181,-6.723965602390722,-7.0083186880071615,-7.147351210311378,-6.813490121690455,-6.819886919194826,-6.810152291678404,-7.291909275128413,-7.207207796391099,-7.071533221983417,-7.059203742755407,-7.010403877615903]\n",
    "\n",
    "# 'git_hash=cc7c3c6+,time=2021-01-13T21:41:31,noise=0.0,lr=5.0e-6,decay=10,s_per_iter=120,iters=30,E0_mean=-7.0,E0_std=0.0,fixed_E0=0.005,betaE_mean=-1.39,dis_param_std=0.0,seed=3,county=Nov-miamidade'\n",
    "tight_post_E0_logit_means = [-3.0949235463695346,-14.349843683875708,-5.088862989025603,-9.516529907437194,-6.347500002366545,-4.399859991237739,-6.234910568092285,-9.629938545437247,-2.922266434836824,-2.0961320004195265,-7.250885438205631,-8.688888544076772,-2.92039546229099,-6.48104231167872,-7.015816253983092]"
   ]
  },
  {
   "cell_type": "code",
   "execution_count": 59,
   "metadata": {
    "ExecuteTime": {
     "end_time": "2021-02-25T00:48:47.767422Z",
     "start_time": "2021-02-25T00:48:47.758806Z"
    }
   },
   "outputs": [],
   "source": [
    "def plot_fig(E0_logits, name=\"save.png\", ymax=0.2):\n",
    "    post_E0_means_pct = [100*sigmoid(x) for x in E0_logits]\n",
    "    fig, ax = plt.subplots(figsize=(8,3))\n",
    "    ax.set_ylim(0,ymax)\n",
    "    comms = list(range(1,len(post_E0_means_pct)+1))\n",
    "    ax.bar(comms,height=post_E0_means_pct,color=\"C0\")\n",
    "    ax.set_xlabel(\"community index\")\n",
    "    ax.set_ylabel(\"Exposure Percentage\")\n",
    "    ax.set_xticks(comms)\n",
    "    plt.savefig(name,dpi=300,bbox_inches=\"tight\")\n",
    "    plt.close()"
   ]
  },
  {
   "cell_type": "code",
   "execution_count": 60,
   "metadata": {
    "ExecuteTime": {
     "end_time": "2021-02-25T00:48:49.552126Z",
     "start_time": "2021-02-25T00:48:48.143942Z"
    }
   },
   "outputs": [],
   "source": [
    "plot_fig(loose_post_E0_logit_means, \"miami_V2_inferred_comms_loose.png\",ymax=0.15)\n",
    "plot_fig(tight_post_E0_logit_means, \"miami_V2_inferred_comms_tight.png\",ymax=12.0)"
   ]
  }
 ],
 "metadata": {
  "kernelspec": {
   "display_name": "Python 3.8.10 64-bit",
   "language": "python",
   "name": "python3"
  },
  "language_info": {
   "codemirror_mode": {
    "name": "ipython",
    "version": 3
   },
   "file_extension": ".py",
   "mimetype": "text/x-python",
   "name": "python",
   "nbconvert_exporter": "python",
   "pygments_lexer": "ipython3",
   "version": "3.8.10"
  },
  "vscode": {
   "interpreter": {
    "hash": "31f2aee4e71d21fbe5cf8b01ff0e069b9275f58929596ceb00d14d90e3e16cd6"
   }
  }
 },
 "nbformat": 4,
 "nbformat_minor": 2
}
