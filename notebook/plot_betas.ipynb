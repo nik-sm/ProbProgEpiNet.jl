{
 "cells": [
  {
   "cell_type": "code",
   "execution_count": null,
   "id": "5dd9e86e-4d68-457a-9948-44f77c8337e7",
   "metadata": {},
   "outputs": [],
   "source": [
    "import seaborn as sns\n",
    "import pandas as pd\n",
    "import numpy as np\n",
    "import matplotlib.pyplot as plt"
   ]
  },
  {
   "cell_type": "code",
   "execution_count": null,
   "id": "deb8c738-65ce-474f-8c19-7cfcd4ac51e5",
   "metadata": {},
   "outputs": [],
   "source": [
    "sns.set(rc={'figure.figsize': (16, 9)})\n",
    "sns.set_style('ticks')\n",
    "sns.set_context('poster', font_scale=1.6)\n",
    "\n",
    "data = pd.DataFrame(\n",
    "        [[i*32, \"Los Angeles\", med, plus, minus] for i, (med, plus, minus) in enumerate(\n",
    "            zip([0.00025549484364311255, 0.02189864363399088, 0.03540707195632492, 0.04797250427256789, 0.05227405474390444, 0.17912947824882022],\n",
    "                [0.0002821766340060091, 0.024740820762413313, 0.03935633678591045, 0.053733396448455456, 0.05880137901445469, 0.19548378290785864],\n",
    "                [0.0002313354208786385, 0.01937648327058012, 0.031840966092602924, 0.0428013148553006, 0.046435556632574454, 0.16386470682963375]))] +\n",
    "        [[i*32, \"Miami-Dade\", med, plus, minus] for i, (med, plus, minus) in enumerate(\n",
    "            zip([0.026341138128171314, 0.005121950450588308, 0.033663759148057394, 0.30474316927602635, 0.026612234285900836, 0.18539476581096478],\n",
    "                [0.02857260189015434, 0.0058647284466227445, 0.03803303437906925, 0.3204769010991878, 0.030418654254094735, 0.2027109512930404],\n",
    "                [0.02427959154806789, 0.004472823312576068, 0.029780891438549405, 0.28945284732764437, 0.023270696483239515, 0.16924378546998808]))] +\n",
    "        [[i*32, \"Middlesex\", med, plus, minus] for i, (med, plus, minus) in enumerate(\n",
    "            zip([0.3234529694883144, 0.533834084035204, 0.13483911449102348, 0.1496171643819995, 0.21594898284385883, 0.05383002608284669],\n",
    "                [0.3479584767586845, 0.559878877889956, 0.15305763278550083, 0.16821913893604432, 0.2378499573484734, 0.06230508845115734],\n",
    "                [0.29987957218285727, 0.5076035242414698, 0.11848577697910033, 0.13274394651707885, 0.19554721691971105, 0.046450678349405874]))],\n",
    "    columns = [\"Simulation Day\", \"County\", \"Median βE\", \"plus_one\", \"minus_one\"])\n",
    "\n",
    "print(data.head())"
   ]
  },
  {
   "cell_type": "code",
   "execution_count": null,
   "id": "da2234f2-d245-4c28-b837-a6f2bc618abd",
   "metadata": {},
   "outputs": [],
   "source": [
    "ax = sns.lineplot(x=\"Simulation Day\", y=\"Median βE\", hue=\"County\", data=data)\n",
    "ax.fill_between([i*32 for i in range(6)], data.query(\"County == 'Los Angeles'\").plus_one, data.query(\"County == 'Los Angeles'\").minus_one, alpha=0.5)\n",
    "ax.fill_between([i*32 for i in range(6)], data.query(\"County == 'Miami-Dade'\").plus_one, data.query(\"County == 'Miami-Dade'\").minus_one, alpha=0.5)\n",
    "ax.fill_between([i*32 for i in range(6)], data.query(\"County == 'Middlesex'\").plus_one, data.query(\"County == 'Middlesex'\").minus_one, alpha=0.5)\n",
    "\n",
    "plt.savefig(\"regional_betaE_comparison.png\", bbox_inches=\"tight\", dpi=300)"
   ]
  },
  {
   "cell_type": "code",
   "execution_count": null,
   "id": "09f375a3-77c7-4485-98fe-2a62878d7c71",
   "metadata": {},
   "outputs": [],
   "source": []
  }
 ],
 "metadata": {
  "kernelspec": {
   "display_name": "Python 3",
   "language": "python",
   "name": "python3"
  },
  "language_info": {
   "codemirror_mode": {
    "name": "ipython",
    "version": 3
   },
   "file_extension": ".py",
   "mimetype": "text/x-python",
   "name": "python",
   "nbconvert_exporter": "python",
   "pygments_lexer": "ipython3",
   "version": "3.8.10"
  }
 },
 "nbformat": 4,
 "nbformat_minor": 5
}
