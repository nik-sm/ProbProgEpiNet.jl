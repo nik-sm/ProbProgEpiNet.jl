{
 "cells": [
  {
   "cell_type": "code",
   "execution_count": null,
   "metadata": {},
   "outputs": [],
   "source": [
    "using Pkg\n",
    "Pkg.activate(\".\")\n",
    "using Dierckx\n",
    "using PyPlot"
   ]
  },
  {
   "cell_type": "code",
   "execution_count": null,
   "metadata": {},
   "outputs": [],
   "source": [
    "betaE = [0.19011920098211038, 0.14104480251826407, 0.1453962586598623, 0.1660137946708329, 0.2182864758250066, 0.20939417497413598]\n",
    "betaI = [0.01812682223300626, 0.018988804977931616, 0.01624019690858398, 0.016182095899051754, 0.017026446624292015, 0.01868146583727563]\n",
    "\n",
    "days = 163\n",
    "knots = 6\n",
    "knot_days = push!(map(x->convert(Int, floor(x)), collect(1:days/(knots-1):days)), days)\n",
    "\n",
    "spline_betaE = Spline1D(knot_days, betaE)\n",
    "spline_betaI = Spline1D(knot_days, betaI)"
   ]
  },
  {
   "cell_type": "code",
   "execution_count": null,
   "metadata": {},
   "outputs": [],
   "source": [
    "x_values = 1:days\n",
    "plot(x_values, map(spline_betaE, x_values), color = \"blue\", label=\"βE\"); # label = \"βE\", ylabel=\"βE value\");\n",
    "xlabel(\"Day of simulation\")\n",
    "ylabel(\"βE value\")\n",
    "legend()\n",
    "ax = twinx()\n",
    "ax.plot(x_values, map(spline_betaI, x_values), color = \"red\", label = \"βI\")\n",
    "ylabel(\"βI value\")\n",
    "legend()\n",
    "title(\"Time-varying disease parameters\")\n",
    "savefig(\"test.png\")"
   ]
  }
 ],
 "metadata": {
  "kernelspec": {
   "display_name": "Julia 1.5.2",
   "language": "julia",
   "name": "julia-1.5"
  },
  "language_info": {
   "file_extension": ".jl",
   "mimetype": "application/julia",
   "name": "julia",
   "version": "1.5.2"
  }
 },
 "nbformat": 4,
 "nbformat_minor": 4
}
