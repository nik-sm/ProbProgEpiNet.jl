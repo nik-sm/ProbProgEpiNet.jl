{
 "cells": [
  {
   "cell_type": "code",
   "execution_count": null,
   "metadata": {},
   "outputs": [],
   "source": [
    "using RollingFunctions\n",
    "using Dierckx\n",
    "using StatsFuns\n",
    "using Distributions\n",
    "\n",
    "sigmoid(x) = StatsFuns.logistic(x)\n",
    "knots = 6\n",
    "\n",
    "function summarize_betas(post_βE_logit_means, post_βE_logit_std_Ls, days)\n",
    "    knot_days = push!(map(x -> convert(Int, floor(x)), collect(1:days/(knots-1):days)), days)\n",
    "\n",
    "    β = []\n",
    "    for knot in 1:knots\n",
    "        μ = post_βE_logit_means[knot]\n",
    "        σ = exp(post_βE_logit_std_Ls[knot])\n",
    "        push!(β, mean(map(x->sigmoid(x),rand(Normal(μ,σ),100))))\n",
    "    end\n",
    "\n",
    "    spline_β = Spline1D(knot_days, β, k=1) \n",
    "\n",
    "    daily_β = [spline_β(day) for day in 1:days]\n",
    "\n",
    "    println(\"Knot means: $(β)\")\n",
    "    println(\"Average: $(mean(daily_β))\")\n",
    "    println(\"Average first 32 days: $(mean(daily_β[1:32]))\")\n",
    "    println(\"Highest 32 day average: $(maximum(rollmean(daily_β,32)))\")\n",
    "end"
   ]
  },
  {
   "cell_type": "markdown",
   "metadata": {},
   "source": [
    "# Miami"
   ]
  },
  {
   "cell_type": "markdown",
   "metadata": {},
   "source": [
    "### betaE"
   ]
  },
  {
   "cell_type": "code",
   "execution_count": null,
   "metadata": {},
   "outputs": [],
   "source": [
    "m = [\n",
    "    -1.799294119854203,\n",
    "    -2.3952760296821496,\n",
    "    -2.1747663920635727,\n",
    "    -1.1816382503036267,\n",
    "    -1.1474901914764353,\n",
    "    -1.4538623704685776\n",
    "  ]\n",
    "\n",
    "s = [\n",
    "    -0.5561697628526084,\n",
    "    -0.9008921445258146,\n",
    "    -0.6249446172510108,\n",
    "    -0.49788203724777447,\n",
    "    -0.11819896713373698,\n",
    "    -0.05429986034905989\n",
    "  ]\n",
    "\n",
    "summarize_betas(m, s, 163)"
   ]
  },
  {
   "cell_type": "markdown",
   "metadata": {},
   "source": [
    "### betaI"
   ]
  },
  {
   "cell_type": "code",
   "execution_count": null,
   "metadata": {},
   "outputs": [],
   "source": [
    "m = [\n",
    "    -3.9556598008740558,\n",
    "    -3.764202961623516,\n",
    "    -4.113611679599176,\n",
    "    -3.97096192253626,\n",
    "    -3.994233430911652,\n",
    "    -4.049462169117896\n",
    "  ]\n",
    "\n",
    "s = [\n",
    "    -0.20582542190213413,\n",
    "    -0.3944623878486025,\n",
    "    -0.006236047112114248,\n",
    "    -0.11713173674207784,\n",
    "    -0.019996564746772878,\n",
    "    0.00257308344304671\n",
    "  ]\n",
    "\n",
    "summarize_betas(m, s, 163)"
   ]
  },
  {
   "cell_type": "markdown",
   "metadata": {},
   "source": [
    "# Middlesex"
   ]
  },
  {
   "cell_type": "markdown",
   "metadata": {},
   "source": [
    "### betaE"
   ]
  },
  {
   "cell_type": "code",
   "execution_count": null,
   "metadata": {},
   "outputs": [],
   "source": [
    "m = [\n",
    "    -1.822685765407167,\n",
    "    -2.27806390393465,\n",
    "    -2.465058221401925,\n",
    "    -2.0521923142408514,\n",
    "    -1.633871281754694,\n",
    "    -1.7232164939073418\n",
    "  ]\n",
    "\n",
    "s = [\n",
    "    -0.41892317397751005,\n",
    "    -0.6628668018196295,\n",
    "    -0.5376633663348829,\n",
    "    -0.4303881889646017,\n",
    "    -0.27173212580491984,\n",
    "    -0.18241715594495214\n",
    "  ]\n",
    "\n",
    "summarize_betas(m, s, 163)"
   ]
  },
  {
   "cell_type": "markdown",
   "metadata": {},
   "source": [
    "### betaI"
   ]
  },
  {
   "cell_type": "code",
   "execution_count": null,
   "metadata": {},
   "outputs": [],
   "source": [
    "m = [\n",
    "    -3.994277039867352,\n",
    "    -4.193373652072596,\n",
    "    -4.097714991612095,\n",
    "    -3.7598037796726,\n",
    "    -4.1239845764150935,\n",
    "    -3.9759472343980216\n",
    "  ]\n",
    "\n",
    "s = [\n",
    "    0.11945390661798357,\n",
    "    0.025921113520497082,\n",
    "    -0.10752118742453641,\n",
    "    0.21935170161313475,\n",
    "    -0.008540304626581015,\n",
    "    -0.09719688037278186\n",
    "  ]\n",
    "\n",
    "summarize_betas(m, s, 163)"
   ]
  },
  {
   "cell_type": "markdown",
   "metadata": {},
   "source": [
    "# Los Angeles"
   ]
  },
  {
   "cell_type": "markdown",
   "metadata": {},
   "source": [
    "### betaE"
   ]
  },
  {
   "cell_type": "code",
   "execution_count": null,
   "metadata": {},
   "outputs": [],
   "source": [
    "m = [\n",
    "    0.013871244388247335,\n",
    "    -1.8299908239594467,\n",
    "    0.31023629985673595,\n",
    "    0.9898838682987003,\n",
    "    -1.1389305429228618,\n",
    "    -1.3556042777117236\n",
    "  ]\n",
    "\n",
    "s = [\n",
    "    -0.9071666498730498,\n",
    "    -1.1986914029580722,\n",
    "    -0.9166325078903342,\n",
    "    -0.40951903487112484,\n",
    "    -0.01815034716827656,\n",
    "    -0.6885030064337501\n",
    "  ]\n",
    "\n",
    "summarize_betas(m, s, 163)"
   ]
  },
  {
   "cell_type": "markdown",
   "metadata": {},
   "source": [
    "### betaI"
   ]
  },
  {
   "cell_type": "code",
   "execution_count": null,
   "metadata": {},
   "outputs": [],
   "source": [
    "m = [\n",
    "    -5.249406353088413,\n",
    "    -3.3118459141639947,\n",
    "    -4.2639047535103485,\n",
    "    -3.7102488553729343,\n",
    "    -3.86126156214639,\n",
    "    -3.9283452012197877\n",
    "  ]\n",
    "\n",
    "s = [\n",
    "    -0.46757334242706405,\n",
    "    -0.4156640750595277,\n",
    "    -0.13500677073015424,\n",
    "    0.3186005049765004,\n",
    "    0.2573173999527787,\n",
    "    -0.29372844151590594\n",
    "  ]\n",
    "\n",
    "summarize_betas(m, s, 163)"
   ]
  },
  {
   "cell_type": "code",
   "execution_count": null,
   "metadata": {},
   "outputs": [],
   "source": []
  }
 ],
 "metadata": {
  "kernelspec": {
   "display_name": "Julia 1.5.1",
   "language": "julia",
   "name": "julia-1.5"
  },
  "language_info": {
   "file_extension": ".jl",
   "mimetype": "application/julia",
   "name": "julia",
   "version": "1.5.1"
  }
 },
 "nbformat": 4,
 "nbformat_minor": 4
}
