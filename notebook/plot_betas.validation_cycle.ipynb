{
 "cells": [
  {
   "cell_type": "code",
   "execution_count": null,
   "id": "430e7c9c",
   "metadata": {},
   "outputs": [],
   "source": [
    "import seaborn as sns\n",
    "import pandas as pd\n",
    "import numpy as np\n",
    "import matplotlib.pyplot as plt\n",
    "from collections import OrderedDict"
   ]
  },
  {
   "cell_type": "code",
   "execution_count": null,
   "id": "10d49611",
   "metadata": {},
   "outputs": [],
   "source": [
    "la_values = OrderedDict(\n",
    "    low=zip([\"lo\"] * 6,\n",
    "        [0.12376640554930958, 0.06411617589108774, 0.11621824841725094, 0.19165180867430046, 0.16725441268691973, 0.18978915757908857]),\n",
    "    high=zip([\"hi\"] * 6,\n",
    "        [0.1909255629376644, 0.16841755193895358, 0.34581222334392137, 0.37248938784913116, 0.2414453821503943, 0.22293091835596726]),\n",
    "    low_high=zip([\"lo\"] * 3 + [\"hi\"]*3,\n",
    "        [0.1278928638322354, 0.08362976619794531, 0.18538632794830806, 0.3261055961807059, 0.23381992439155205, 0.20528770941866484]),\n",
    "    high_low=zip([\"hi\"] *3 + [\"lo\"] * 3,\n",
    "        [0.19185059889243727, 0.15332132119401326, 0.2532876598369139, 0.30227366537054795, 0.22952976041088882, 0.21577432275732242]),\n",
    "    low_high_lo=zip([\"lo\"]*2 + [\"hi\"]*2 + [\"lo\"] * 2,\n",
    "         [0.13853493586159024, 0.09416872277803962, 0.23788371038548586, 0.3658945004132107, 0.23296965262164357, 0.2142813291321743]),\n",
    "    high_low_high=zip([\"hi\"] *2 + [\"lo\"]*2 +[\"hi\"] * 2,\n",
    "             [0.17381643113802867, 0.11490764466891919, 0.2192303016086964, 0.2928054586750611, 0.22771298229227965, 0.2131655899905051]),\n",
    ")"
   ]
  },
  {
   "cell_type": "code",
   "execution_count": null,
   "id": "3cf22760",
   "metadata": {},
   "outputs": [],
   "source": [
    "miami_values = OrderedDict(\n",
    "    low=zip([\"lo\"] * 6,\n",
    "    [0.11626247656933554,\n",
    "        0.0635825445218762,\n",
    "        0.10939566004066649,\n",
    "        0.22399260426216525,\n",
    "        0.1704000484856226,\n",
    "        0.19971581549341735]),\n",
    "    high=zip([\"hi\"] * 6,\n",
    "           [0.19195216346808067,\n",
    "        0.14230456258010432,\n",
    "        0.3091508654082898,\n",
    "        0.34057191389008445,\n",
    "        0.2280700125118534,\n",
    "        0.22425593284160833]),\n",
    "    low_high=zip([\"lo\"] * 3 + [\"hi\"]*3,\n",
    "              [0.11799150049446125, 0.06837659583090253, 0.15109485841819809,\n",
    "           0.3599184890148501, 0.2073904688528384, 0.21915627098540003]),\n",
    "    high_low=zip([\"hi\"] *3 + [\"lo\"] * 3,\n",
    "              [0.1973656795072914, 0.13801600727677227, 0.23032900912878876,\n",
    "           0.28872275616106136, 0.20478040754314503, 0.2171100272388623]),\n",
    "    low_high_low=zip([\"lo\"]*2 + [\"hi\"]*2 + [\"lo\"] * 2,\n",
    "                 [0.12947897857183482, 0.08184398157557216, 0.19491516547807272,\n",
    "              0.35827234910989936, 0.2198738400249818, 0.2135573735315974]),\n",
    "    high_low_high=zip([\"hi\"] *2 + [\"lo\"]*2 +[\"hi\"] * 2,\n",
    "                 [0.16557322384143777, 0.11124281943470256, 0.17411761744076107,\n",
    "              0.27463789420182094, 0.21131811206677845, 0.20255963388742995]),\n",
    ")\n"
   ]
  },
  {
   "cell_type": "code",
   "execution_count": null,
   "id": "7d6929c4",
   "metadata": {},
   "outputs": [],
   "source": [
    "all_contents = []\n",
    "for container, name in [(la_values, \"Los Angeles\"), (miami_values, \"Miami-Dade\")]:  \n",
    "    tmp = []\n",
    "    for scenario_name, values in container.items():\n",
    "        for knot, (label, value) in enumerate(values):\n",
    "            tmp.append([knot*32, name, scenario_name, value, label])\n",
    "\n",
    "    all_contents.extend(tmp)\n",
    "\n",
    "data = pd.DataFrame(all_contents, columns=[\"Simulation Day\", \"County\", \"Scenario\", \"Value\", \"Label\"])"
   ]
  },
  {
   "cell_type": "code",
   "execution_count": null,
   "id": "747d72a5",
   "metadata": {},
   "outputs": [],
   "source": [
    "sns.set(rc={'figure.figsize': (16, 9)})\n",
    "sns.set_style('ticks')\n",
    "sns.set_context('poster', font_scale=1.6)\n",
    "\n",
    "def do_plot(county, county_abbrev):\n",
    "    ax = sns.lineplot(x=\"Simulation Day\", y=\"Value\", hue=\"Scenario\", data=data.loc[data[\"County\"] == county], legend=\"brief\")\n",
    "    markers = {\"lo\": 11, \"hi\": 10}\n",
    "#     markers = {\"lo\": \"v\", \"hi\": \"^\"}\n",
    "    # ax = sns.scatterplot(x=\"Simulation Day\", y=\"Value\", style=\"Label\", hue=\"Label\", markers=markers, palette=\"tab10\", data=data.loc[data[\"County\"] == county])\n",
    "    ax = sns.scatterplot(x=\"Simulation Day\", y=\"Value\", style=\"Label\", markers=markers, s=300, data=data.loc[data[\"County\"] == county], legend=False)\n",
    "    ax.legend(loc='center right', bbox_to_anchor=(1.5, 0.5), ncol=1)\n",
    "    ax.axhline(0.1, linestyle=\"--\", alpha=0.5)\n",
    "    ax.axhline(0.45, linestyle=\"--\", alpha=0.5)\n",
    "    ax.axvline(160 * 1.5 / 5, linestyle=\"--\", alpha=0.5)\n",
    "    ax.axvline(160 * 2.5 / 5, linestyle=\"--\", alpha=0.5)\n",
    "    ax.axvline(160 * 3.5 / 5, linestyle=\"--\", alpha=0.5)\n",
    "    plt.title(county)\n",
    "    plt.savefig(f\"{county_abbrev}.no_ground_truth_lines.color_per_scenario.png\", bbox_inches=\"tight\", dpi=300)\n",
    "    plt.show()\n",
    "\n",
    "do_plot(\"Miami-Dade\", \"miami\")\n",
    "do_plot(\"Los Angeles\", \"la\")"
   ]
  },
  {
   "cell_type": "code",
   "execution_count": null,
   "id": "29b0f01d-ec33-4d05-880e-52665158ba5d",
   "metadata": {},
   "outputs": [],
   "source": []
  }
 ],
 "metadata": {
  "kernelspec": {
   "display_name": "Python 3.8.10 ('venv': venv)",
   "language": "python",
   "name": "python3"
  },
  "language_info": {
   "codemirror_mode": {
    "name": "ipython",
    "version": 3
   },
   "file_extension": ".py",
   "mimetype": "text/x-python",
   "name": "python",
   "nbconvert_exporter": "python",
   "pygments_lexer": "ipython3",
   "version": "3.8.10"
  },
  "vscode": {
   "interpreter": {
    "hash": "456c5ec3aa86d22326d1c4f35464f7c19d57057348ba1d7a51e60b909ab21a94"
   }
  }
 },
 "nbformat": 4,
 "nbformat_minor": 5
}
