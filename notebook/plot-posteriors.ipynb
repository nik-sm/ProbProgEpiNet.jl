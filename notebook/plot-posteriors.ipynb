{
 "cells": [
  {
   "cell_type": "code",
   "execution_count": null,
   "metadata": {},
   "outputs": [],
   "source": [
    "import json\n",
    "\n",
    "import matplotlib.pyplot as plt\n",
    "import numpy as np\n",
    "from scipy import stats\n"
   ]
  },
  {
   "cell_type": "code",
   "execution_count": null,
   "metadata": {},
   "outputs": [],
   "source": [
    "def sigmoid(x):\n",
    "    return 1 / (1 + np.exp(-x))\n",
    "\n",
    "def logit(y):\n",
    "    return np.log(y / (1 - y))\n",
    "\n",
    "def logit_derivative(y):\n",
    "    return 1 / (y - y**2)\n",
    "\n",
    "def sample(logit_mean, logit_std, size):\n",
    "    return sigmoid(np.random.normal(logit_mean, logit_std, size))\n",
    "\n",
    "def evaluate(y, logit_mean, logit_std, factor=1):\n",
    "    return stats.norm.pdf(logit(y / factor), logit_mean, logit_std) * logit_derivative(y / factor) / factor \n"
   ]
  },
  {
   "cell_type": "code",
   "execution_count": null,
   "metadata": {},
   "outputs": [],
   "source": [
    "json_files = [\n",
    "    (\"Los Angeles\", \"/data/shared/coanet_results/best_regional_fits/time=2021-06-08T22:40:30,git_hash=19322b5+,noise=0.0005,lr=5.0e-6,lead_in=7,inf_thresh=0.08,duration=163,inf_sat=0.5,iters=40,fixed_E0=0.08,seed=1,county=losangeles-exp,noise_fn=day_scaling,sc=5.0e-5,/posterior_params.json\"),\n",
    "    (\"Middlesex\", \"/data/shared/coanet_results/best_regional_fits/time=2021-06-08T22:40:31,git_hash=19322b5+,noise=0.00025,lr=5.0e-6,lead_in=7,inf_thresh=0.02,duration=163,inf_sat=0.5,iters=40,fixed_E0=0.02,seed=1,county=middlesex-exp,noise_fn=day_scaling,sc=5.0e-5,/posterior_params.json\"),\n",
    "    (\"Miami-Dade\", \"/data/shared/coanet_results/best_regional_fits/time=2021-06-07T22:26:37,git_hash=19322b5+,noise=0.00025,lr=5.0e-6,lead_in=7,inf_thresh=0.02,duration=163,inf_sat=0.5,iters=40,fixed_E0=0.02,seed=1,county=miamidade-exp,noise_fn=day_scaling,sc=5.0e-5,/posterior_params.json\"),\n",
    "]"
   ]
  },
  {
   "cell_type": "code",
   "execution_count": null,
   "metadata": {},
   "outputs": [],
   "source": [
    "def plot_E0(county_name, params):\n",
    "    # Plot E0s\n",
    "    e0_logit_means = np.array(params[\"post_E0_logit_means\"])\n",
    "    e0_logit_std = np.exp(params[\"post_E0_logit_std_L\"])\n",
    "\n",
    "    print(e0_logit_means.shape)\n",
    "    print(e0_logit_std.shape)\n",
    "\n",
    "    nrows = 4\n",
    "    ncols = 5\n",
    "    fig, ax = plt.subplots(nrows, ncols, figsize=(10, 5), constrained_layout=True)\n",
    "\n",
    "    # Compute PDF for each county\n",
    "    xs = np.linspace(0.000001, 0.01, 1000) \n",
    "    result = []\n",
    "    for idx, county_logit_mean in enumerate(e0_logit_means):\n",
    "        tmp = []\n",
    "        for i in xs:\n",
    "            tmp.append(evaluate(i, county_logit_mean, e0_logit_std, 3))\n",
    "        result.append(np.array(tmp))\n",
    "\n",
    "    for idx, data in enumerate(result):\n",
    "        ax_idx = np.unravel_index(idx, (nrows, ncols))\n",
    "        ax[ax_idx].plot(xs, data)\n",
    "        ax[ax_idx].set_xticks([0, 0.005, 0.01])\n",
    "        ax[ax_idx].set_ylim([0, 300])\n",
    "        ax[ax_idx].set_title(f\"CBG {idx+1}\")\n",
    "        if ax_idx[0] < nrows - 1:\n",
    "            # Only show xaxis for final row\n",
    "            ax[ax_idx].xaxis.set_visible(False)\n",
    "        if ax_idx[1] > 0:\n",
    "            # Only show yaxis for first col\n",
    "            ax[ax_idx].yaxis.set_visible(False)\n",
    "\n",
    "    fig.suptitle(f\"Posterior Distribution of ρc by CBG ({county_name})\")\n",
    "    name = f\"posterior_params.{county_name.replace(' ', '_')}.E0.png\"\n",
    "    fig.savefig(name, dpi=300, bbox_inches=\"tight\")\n",
    "    plt.show()"
   ]
  },
  {
   "cell_type": "code",
   "execution_count": null,
   "metadata": {},
   "outputs": [],
   "source": [
    "def plot_betaE(county_name, params):\n",
    "    # Plot BetaEs\n",
    "    betaE_logit_means = np.array(params[\"post_βE_logit_means\"])\n",
    "    betaE_logit_stds = np.exp(params[\"post_βE_logit_std_Ls\"])\n",
    "\n",
    "    print(betaE_logit_means.shape)\n",
    "    print(betaE_logit_stds.shape)\n",
    "\n",
    "    fig, ax = plt.subplots(6, 1, figsize=(10, 10), constrained_layout=True)\n",
    "\n",
    "    xs = np.linspace(0.0001, 0.6, 1000) \n",
    "    result = []\n",
    "    for idx, (logit_mean, logit_std) in enumerate(zip(betaE_logit_means, betaE_logit_stds)):\n",
    "        tmp = []\n",
    "        for i in xs:\n",
    "            tmp.append(evaluate(i, logit_mean, logit_std))\n",
    "        result.append(np.array(tmp))\n",
    "\n",
    "    for idx, data in enumerate(result):\n",
    "        ax_idx = np.unravel_index(idx, (6,))\n",
    "        ax[ax_idx].plot(xs, data)\n",
    "        ax[ax_idx].set_xticks([0, 0.1, 0.2, 0.3, 0.4, 0.5, 0.6])\n",
    "        # ax[ax_idx].set_ylim([0, 300])\n",
    "        ax[ax_idx].set_title(f\"Knot {idx}\")\n",
    "        if ax_idx[0] < 5:\n",
    "            ax[ax_idx].xaxis.set_visible(False)\n",
    "\n",
    "    fig.suptitle(f\"Posterior Distribution of βE by Knot ({county_name})\")\n",
    "    name = f\"posterior_params.{county_name.replace(' ', '_')}.betaE.png\"\n",
    "    fig.savefig(name, dpi=300, bbox_inches=\"tight\")\n",
    "    plt.show()\n"
   ]
  },
  {
   "cell_type": "code",
   "execution_count": null,
   "metadata": {},
   "outputs": [],
   "source": [
    "def plot_betaI(county_name, params):\n",
    "    # Plot BetaEs\n",
    "    betaI_logit_means = np.array(params[\"post_βI_logit_means\"])\n",
    "    betaI_logit_stds = np.exp(params[\"post_βI_logit_std_Ls\"])\n",
    "\n",
    "    print(betaI_logit_means.shape)\n",
    "    print(betaI_logit_stds.shape)\n",
    "\n",
    "    fig, ax = plt.subplots(6, 1, figsize=(10, 10), constrained_layout=True)\n",
    "\n",
    "    xs = np.linspace(0.0001, 0.2, 1000) \n",
    "    result = []\n",
    "    for idx, (logit_mean, logit_std) in enumerate(zip(betaI_logit_means, betaI_logit_stds)):\n",
    "        tmp = []\n",
    "        for i in xs:\n",
    "            tmp.append(evaluate(i, logit_mean, logit_std))\n",
    "        result.append(np.array(tmp))\n",
    "\n",
    "\n",
    "    for idx, data in enumerate(result):\n",
    "        ax_idx = np.unravel_index(idx, (6,))\n",
    "        ax[ax_idx].plot(xs, data)\n",
    "        ax[ax_idx].set_xticks([0, 0.1, 0.2])\n",
    "        # ax[ax_idx].set_ylim([0, 300])\n",
    "        ax[ax_idx].set_title(f\"Knot {idx}\")\n",
    "        if ax_idx[0] < 5:\n",
    "            ax[ax_idx].xaxis.set_visible(False)\n",
    "\n",
    "    fig.suptitle(f\"Posterior Distribution of βI by Knot ({county_name})\")\n",
    "    name = f\"posterior_params.{county_name.replace(' ', '_')}.betaI.png\"\n",
    "    fig.savefig(name, dpi=300, bbox_inches=\"tight\")\n",
    "    plt.show()\n"
   ]
  },
  {
   "cell_type": "code",
   "execution_count": null,
   "metadata": {},
   "outputs": [],
   "source": [
    "for county, json_file in json_files:\n",
    "    with open(json_file, \"r\") as f:\n",
    "        params = json.load(f)\n",
    "    plot_E0(county, params)\n",
    "    plot_betaE(county, params)\n",
    "    plot_betaI(county, params)"
   ]
  }
 ],
 "metadata": {
  "kernelspec": {
   "display_name": "Python 3.8.10 ('venv': venv)",
   "language": "python",
   "name": "python3"
  },
  "language_info": {
   "codemirror_mode": {
    "name": "ipython",
    "version": 3
   },
   "file_extension": ".py",
   "mimetype": "text/x-python",
   "name": "python",
   "nbconvert_exporter": "python",
   "pygments_lexer": "ipython3",
   "version": "3.8.10"
  },
  "orig_nbformat": 4,
  "vscode": {
   "interpreter": {
    "hash": "96fb540d9e1cceaceacfb268b1d25d78f8ef27ff1c0c78c791c9f8affba07fcb"
   }
  }
 },
 "nbformat": 4,
 "nbformat_minor": 2
}
