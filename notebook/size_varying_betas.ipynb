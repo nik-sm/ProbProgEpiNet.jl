{
 "cells": [
  {
   "cell_type": "markdown",
   "id": "bb0c58c6-08e4-4134-8874-27c9bad3f53d",
   "metadata": {},
   "source": [
    "# File paths\n",
    "- /data/shared/coanet_results/size_varying_6_04/time=2021-06-04T23:01:55,git_hash=72a3bbb+,noise=0.00025,lr=5.0e-6,lead_in=7,inf_thresh=0.04,duration=163,inf_sat=0.5,iters=20,fixed_E0=0.04,seed=1,county=middlesex-exp-5_cbgs,noise_fn=day_scaling,sc=5.0e-5,\n",
    "- /data/shared/coanet_results/size_varying_6_04/time=2021-06-04T23:02:04,git_hash=72a3bbb+,noise=0.00025,lr=5.0e-6,lead_in=7,inf_thresh=0.04,duration=163,inf_sat=0.5,iters=20,fixed_E0=0.04,seed=1,county=middlesex-exp-10_cbgs,noise_fn=day_scaling,sc=5.0e-5,\n",
    "- /data/shared/coanet_results/size_varying_6_04/time=2021-06-04T23:02:13,git_hash=72a3bbb+,noise=0.00025,lr=5.0e-6,lead_in=7,inf_thresh=0.04,duration=163,inf_sat=0.5,iters=20,fixed_E0=0.04,seed=1,county=middlesex-exp-15_cbgs,noise_fn=day_scaling,sc=5.0e-5,\n",
    "- /data/shared/coanet_results/best_regional_fits/time=2021-06-08T22:40:31,git_hash=19322b5+,noise=0.00025,lr=5.0e-6,lead_in=7,inf_thresh=0.02,duration=163,inf_sat=0.5,iters=40,fixed_E0=0.02,seed=1,county=middlesex-exp,noise_fn=day_scaling,sc=5.0e-5,/middlesex-expmdae.txt\n",
    "- /data/shared/coanet_results/size_varying_6_04/time=2021-06-04T23:02:22,git_hash=72a3bbb+,noise=0.00025,lr=5.0e-6,lead_in=7,inf_thresh=0.04,duration=163,inf_sat=0.5,iters=20,fixed_E0=0.04,seed=1,county=middlesex-exp-30_cbgs,noise_fn=day_scaling,sc=5.0e-5,\n",
    "- /data/shared/coanet_results/size_varying_6_04/time=2021-06-04T23:02:31,git_hash=72a3bbb+,noise=0.00025,lr=5.0e-6,lead_in=7,inf_thresh=0.04,duration=163,inf_sat=0.5,iters=20,fixed_E0=0.04,seed=1,county=middlesex-exp-40_cbgs,noise_fn=day_scaling,sc=5.0e-5,"
   ]
  },
  {
   "cell_type": "code",
   "execution_count": null,
   "id": "91d783a0-5e9c-48a9-914a-5fbdbce8ad2e",
   "metadata": {},
   "outputs": [],
   "source": [
    "import seaborn as sns\n",
    "import matplotlib.pyplot as plt\n",
    "import pandas as pd"
   ]
  },
  {
   "cell_type": "code",
   "execution_count": null,
   "id": "3a87846a-a04a-4352-af3e-6871a107fa15",
   "metadata": {},
   "outputs": [],
   "source": [
    "[[\"5\", i, x] for i, x in enumerate([0.001677836933196303, 0.018979092685636037, 0.061619372141006254, 0.08588877504371835, 0.04732575722617253, 0.11706679221539716])]"
   ]
  },
  {
   "cell_type": "code",
   "execution_count": null,
   "id": "072cf1ff-b0dc-473f-ab5b-006d188e5336",
   "metadata": {},
   "outputs": [],
   "source": [
    "data = (\n",
    "    [[\"5\",  i+1, x] for i, x in enumerate([0.001677836933196303, 0.018979092685636037, 0.061619372141006254, 0.08588877504371835, 0.04732575722617253, 0.11706679221539716])] +    \n",
    "    [[\"10\", i+1, x] for i, x in enumerate([0.01183664190684294, 0.12695052216061778, 0.06712658693988631, 0.04640517252414094, 0.06991791066264591, 0.08884214410191565])] +\n",
    "    [[\"15\", i+1, x] for i, x in enumerate([0.01774163927039988, 0.2651694966606471, 0.07904721283571839, 0.10062970825528371, 0.05151282789338468, 0.10397279654739283])] +\n",
    "    [[\"20\", i+1, x] for i, x in enumerate([0.3215019388822513, 0.5297434800650064, 0.1396109257716105, 0.15331543689929017, 0.21652283796206162, 0.05474864639882112])] +\n",
    "    [[\"30\", i+1, x] for i, x in enumerate([0.019715186656748696, 0.6761543864212238, 0.08201351367420488, 0.10426151174162804, 0.0552639530947206, 0.06815744525557522])] +\n",
    "    [[\"40\", i+1, x] for i, x in enumerate([0.06033465546816928, 0.5932936935409457, 0.10181704803948972, 0.0624704733489563, 0.060992068580232435, 0.07711611081436329])])"
   ]
  },
  {
   "cell_type": "code",
   "execution_count": null,
   "id": "e7ca8d5c-0b49-4911-84d3-a598b24d4e49",
   "metadata": {},
   "outputs": [],
   "source": [
    "data"
   ]
  },
  {
   "cell_type": "code",
   "execution_count": null,
   "id": "5bf4e7fe-20b9-4f0c-99e3-f7e46517ed9e",
   "metadata": {},
   "outputs": [],
   "source": [
    "df = pd.DataFrame(data, columns=[\"Num. CBG\", \"Knot\", \"BetaE\"])"
   ]
  },
  {
   "cell_type": "code",
   "execution_count": null,
   "id": "c7c436a3-47f9-487f-b2fb-9d057bc39fb7",
   "metadata": {},
   "outputs": [],
   "source": [
    "sns.set_context(\"paper\")\n",
    "sns.set_palette(\"colorblind\")\n",
    "sns.set_style(\"whitegrid\")\n",
    "ax = sns.lineplot(x=\"Knot\", y=\"BetaE\", hue=\"Num. CBG\", data=df)\n",
    "ax.set_xlim(1,6)\n",
    "ax.set_ylim(0,0.7)\n",
    "ax.get_figure().savefig(\"size_varying_betas\", dpi=300, bbox_inches=\"tight\")"
   ]
  }
 ],
 "metadata": {
  "kernelspec": {
   "display_name": "Python 3",
   "language": "python",
   "name": "python3"
  },
  "language_info": {
   "codemirror_mode": {
    "name": "ipython",
    "version": 3
   },
   "file_extension": ".py",
   "mimetype": "text/x-python",
   "name": "python",
   "nbconvert_exporter": "python",
   "pygments_lexer": "ipython3",
   "version": "3.8.10"
  }
 },
 "nbformat": 4,
 "nbformat_minor": 5
}
